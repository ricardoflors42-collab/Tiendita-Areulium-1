{
 "cells": [
  {
   "cell_type": "code",
   "execution_count": 1,
   "id": "2a284653",
   "metadata": {},
   "outputs": [
    {
     "name": "stdout",
     "output_type": "stream",
     "text": [
      "     id_venta  id_producto        nombre_producto  cantidad  precio_unitario  \\\n",
      "0           1           90    Toallas Húmedas x50         1             2902   \n",
      "1           2           82  Aceitunas Negras 200g         5             2394   \n",
      "2           2           39     Helado Vainilla 1L         5              469   \n",
      "3           2           70           Fernet 750ml         2             4061   \n",
      "4           2           22  Medialunas de Manteca         1             2069   \n",
      "..        ...          ...                    ...       ...              ...   \n",
      "338       118           70           Fernet 750ml         2             4061   \n",
      "339       118           93     Cepillo de Dientes         3             2142   \n",
      "340       118           50             Azúcar 1kg         2              727   \n",
      "341       119           45  Fideos Spaghetti 500g         5              745   \n",
      "342       120           20      Pan Lactal Blanco         5             1571   \n",
      "\n",
      "     importe  \n",
      "0       2902  \n",
      "1      11970  \n",
      "2       2345  \n",
      "3       8122  \n",
      "4       2069  \n",
      "..       ...  \n",
      "338     8122  \n",
      "339     6426  \n",
      "340     1454  \n",
      "341     3725  \n",
      "342     7855  \n",
      "\n",
      "[343 rows x 6 columns]\n"
     ]
    }
   ],
   "source": [
    "import pandas as pd\n",
    "\n",
    "# Leer el archivo Excel\n",
    "df = pd.read_excel(r\"C:\\Users\\Belu\\Desktop\\Proyt-aurelion\\tablas\\Detalle_ventas.xlsx\",  engine=\"openpyxl\")\n",
    "\n",
    "\n",
    "\n",
    "# Mostrar las primeras filas\n",
    "print(df)\n"
   ]
  },
  {
   "cell_type": "code",
   "execution_count": null,
   "id": "049a2cf8",
   "metadata": {},
   "outputs": [],
   "source": []
  }
 ],
 "metadata": {
  "kernelspec": {
   "display_name": "Python 3",
   "language": "python",
   "name": "python3"
  },
  "language_info": {
   "codemirror_mode": {
    "name": "ipython",
    "version": 3
   },
   "file_extension": ".py",
   "mimetype": "text/x-python",
   "name": "python",
   "nbconvert_exporter": "python",
   "pygments_lexer": "ipython3",
   "version": "3.13.5"
  }
 },
 "nbformat": 4,
 "nbformat_minor": 5
}
