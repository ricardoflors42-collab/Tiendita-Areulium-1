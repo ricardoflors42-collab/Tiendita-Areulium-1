{
 "cells": [
  {
   "cell_type": "code",
   "execution_count": 4,
   "id": "2e549bb5",
   "metadata": {},
   "outputs": [
    {
     "name": "stdout",
     "output_type": "stream",
     "text": [
      "     id_venta      fecha  id_cliente    nombre_cliente  \\\n",
      "0           1 2024-06-19          62  Guadalupe Romero   \n",
      "1           2 2024-03-17          49      Olivia Gomez   \n",
      "2           3 2024-01-13          20      Tomas Acosta   \n",
      "3           4 2024-02-27          36    Martina Molina   \n",
      "4           5 2024-06-11          56        Bruno Diaz   \n",
      "..        ...        ...         ...               ...   \n",
      "115       116 2024-03-18          25     Karina Castro   \n",
      "116       117 2024-03-14          72  Camila Rodriguez   \n",
      "117       118 2024-02-09          84     Pablo Sanchez   \n",
      "118       119 2024-02-07          51    Agustina Gomez   \n",
      "119       120 2024-04-21          72  Camila Rodriguez   \n",
      "\n",
      "                         email     medio_pago  \n",
      "0    guadalupe.romero@mail.com        tarjeta  \n",
      "1        olivia.gomez@mail.com             qr  \n",
      "2        tomas.acosta@mail.com        tarjeta  \n",
      "3      martina.molina@mail.com  transferencia  \n",
      "4          bruno.diaz@mail.com        tarjeta  \n",
      "..                         ...            ...  \n",
      "115     karina.castro@mail.com             qr  \n",
      "116  camila.rodriguez@mail.com        tarjeta  \n",
      "117     pablo.sanchez@mail.com       efectivo  \n",
      "118    agustina.gomez@mail.com             qr  \n",
      "119  camila.rodriguez@mail.com        tarjeta  \n",
      "\n",
      "[120 rows x 6 columns]\n"
     ]
    }
   ],
   "source": [
    "import pandas as pd\n",
    "\n",
    "# Leer el archivo Excel\n",
    "df = pd.read_excel(r\"C:\\Users\\Belu\\Desktop\\Proyt-aurelion\\tablas\\Ventas.xlsx\",  engine=\"openpyxl\")\n",
    "\n",
    "# Mostrar las primeras filas\n",
    "print(df)\n"
   ]
  },
  {
   "cell_type": "code",
   "execution_count": null,
   "id": "2ef59d56",
   "metadata": {},
   "outputs": [],
   "source": []
  }
 ],
 "metadata": {
  "kernelspec": {
   "display_name": "Python 3",
   "language": "python",
   "name": "python3"
  },
  "language_info": {
   "codemirror_mode": {
    "name": "ipython",
    "version": 3
   },
   "file_extension": ".py",
   "mimetype": "text/x-python",
   "name": "python",
   "nbconvert_exporter": "python",
   "pygments_lexer": "ipython3",
   "version": "3.13.5"
  }
 },
 "nbformat": 4,
 "nbformat_minor": 5
}
