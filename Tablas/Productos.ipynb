{
 "cells": [
  {
   "cell_type": "code",
   "execution_count": 1,
   "id": "2b24a0d7",
   "metadata": {},
   "outputs": [
    {
     "name": "stdout",
     "output_type": "stream",
     "text": [
      "    id_producto      nombre_producto  categoria  precio_unitario\n",
      "0             1       Coca Cola 1.5L  Alimentos             2347\n",
      "1             2           Pepsi 1.5L   Limpieza             4973\n",
      "2             3          Sprite 1.5L  Alimentos             4964\n",
      "3             4   Fanta Naranja 1.5L   Limpieza             2033\n",
      "4             5   Agua Mineral 500ml  Alimentos             4777\n",
      "..          ...                  ...        ...              ...\n",
      "95           96        Suavizante 1L   Limpieza             4920\n",
      "96           97  Limpiavidrios 500ml  Alimentos              872\n",
      "97           98  Desengrasante 500ml   Limpieza             2843\n",
      "98           99          Esponjas x3  Alimentos             2430\n",
      "99          100        Trapo de Piso   Limpieza             4854\n",
      "\n",
      "[100 rows x 4 columns]\n"
     ]
    }
   ],
   "source": [
    "import pandas as pd\n",
    "\n",
    "# Leer el archivo Excel\n",
    "df = pd.read_excel(r\"C:\\Users\\Belu\\Desktop\\Proyt-aurelion\\tablas\\Productos.xlsx\",  engine=\"openpyxl\")\n",
    "\n",
    "# Mostrar las primeras filas\n",
    "print(df)"
   ]
  }
 ],
 "metadata": {
  "kernelspec": {
   "display_name": "Python 3",
   "language": "python",
   "name": "python3"
  },
  "language_info": {
   "codemirror_mode": {
    "name": "ipython",
    "version": 3
   },
   "file_extension": ".py",
   "mimetype": "text/x-python",
   "name": "python",
   "nbconvert_exporter": "python",
   "pygments_lexer": "ipython3",
   "version": "3.13.5"
  }
 },
 "nbformat": 4,
 "nbformat_minor": 5
}
