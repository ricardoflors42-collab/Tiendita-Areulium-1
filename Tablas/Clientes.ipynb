{
 "cells": [
  {
   "cell_type": "code",
   "execution_count": 1,
   "id": "a826ab36",
   "metadata": {},
   "outputs": [
    {
     "name": "stdout",
     "output_type": "stream",
     "text": [
      "    id_cliente   nombre_cliente                     email       ciudad  \\\n",
      "0            1    Mariana Lopez    mariana.lopez@mail.com   Carlos Paz   \n",
      "1            2    Nicolas Rojas    nicolas.rojas@mail.com   Carlos Paz   \n",
      "2            3  Hernan Martinez  hernan.martinez@mail.com   Rio Cuarto   \n",
      "3            4     Uma Martinez     uma.martinez@mail.com   Carlos Paz   \n",
      "4            5  Agustina Flores  agustina.flores@mail.com      Cordoba   \n",
      "..         ...              ...                       ...          ...   \n",
      "95          96   Rocio Gonzalez   rocio.gonzalez@mail.com      Cordoba   \n",
      "96          97      Uma Alvarez      uma.alvarez@mail.com      Cordoba   \n",
      "97          98    Camila Castro    camila.castro@mail.com      Cordoba   \n",
      "98          99     Bruno Molina     bruno.molina@mail.com  Villa Maria   \n",
      "99         100   Agustina Lopez   agustina.lopez@mail.com      Cordoba   \n",
      "\n",
      "   fecha_alta  \n",
      "0  2023-01-01  \n",
      "1  2023-01-02  \n",
      "2  2023-01-03  \n",
      "3  2023-01-04  \n",
      "4  2023-01-05  \n",
      "..        ...  \n",
      "95 2023-04-06  \n",
      "96 2023-04-07  \n",
      "97 2023-04-08  \n",
      "98 2023-04-09  \n",
      "99 2023-04-10  \n",
      "\n",
      "[100 rows x 5 columns]\n"
     ]
    }
   ],
   "source": [
    "import pandas as pd\n",
    "\n",
    "# Leer el archivo Excel\n",
    "df = pd.read_excel(r\"C:\\Users\\Belu\\Desktop\\Proyt-aurelion\\tablas\\Clientes.xlsx\",  engine=\"openpyxl\")\n",
    "\n",
    "\n",
    "\n",
    "# Mostrar las primeras filas\n",
    "print(df)\n"
   ]
  },
  {
   "cell_type": "code",
   "execution_count": null,
   "id": "6a27770d",
   "metadata": {},
   "outputs": [],
   "source": []
  }
 ],
 "metadata": {
  "kernelspec": {
   "display_name": "Python 3",
   "language": "python",
   "name": "python3"
  },
  "language_info": {
   "codemirror_mode": {
    "name": "ipython",
    "version": 3
   },
   "file_extension": ".py",
   "mimetype": "text/x-python",
   "name": "python",
   "nbconvert_exporter": "python",
   "pygments_lexer": "ipython3",
   "version": "3.13.5"
  }
 },
 "nbformat": 4,
 "nbformat_minor": 5
}
